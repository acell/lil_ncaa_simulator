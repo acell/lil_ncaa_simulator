{
 "cells": [
  {
   "cell_type": "code",
   "execution_count": 1,
   "id": "reasonable-hospital",
   "metadata": {},
   "outputs": [],
   "source": [
    "import pandas as pd\n",
    "import numpy as np\n",
    "import random"
   ]
  },
  {
   "cell_type": "code",
   "execution_count": 2,
   "id": "proved-veteran",
   "metadata": {},
   "outputs": [],
   "source": [
    "lameness_setting = 5\n",
    "# float suggested to be between 1 and 5\n",
    "# a lower number will result in more upsets, a higher number will result in fewer upsets"
   ]
  },
  {
   "cell_type": "code",
   "execution_count": 3,
   "id": "falling-light",
   "metadata": {},
   "outputs": [],
   "source": [
    "seeds = pd.read_csv('seed_win_likelihoods.csv')\n",
    "kenpom = pd.read_csv('NCAA2021_Kenpom.csv')\n",
    "tournament = pd.read_csv('tournament.csv')"
   ]
  },
  {
   "cell_type": "code",
   "execution_count": 4,
   "id": "chinese-subdivision",
   "metadata": {},
   "outputs": [],
   "source": [
    "tournament = tournament.dropna(how='all')\n",
    "tournament = tournament.drop('Unnamed: 0', axis=1)\n",
    "tournament.columns = ['seed', 'team']"
   ]
  },
  {
   "cell_type": "code",
   "execution_count": 5,
   "id": "armed-generator",
   "metadata": {},
   "outputs": [
    {
     "data": {
      "text/html": [
       "<div>\n",
       "<style scoped>\n",
       "    .dataframe tbody tr th:only-of-type {\n",
       "        vertical-align: middle;\n",
       "    }\n",
       "\n",
       "    .dataframe tbody tr th {\n",
       "        vertical-align: top;\n",
       "    }\n",
       "\n",
       "    .dataframe thead th {\n",
       "        text-align: right;\n",
       "    }\n",
       "</style>\n",
       "<table border=\"1\" class=\"dataframe\">\n",
       "  <thead>\n",
       "    <tr style=\"text-align: right;\">\n",
       "      <th></th>\n",
       "      <th>seed</th>\n",
       "      <th>team</th>\n",
       "    </tr>\n",
       "  </thead>\n",
       "  <tbody>\n",
       "    <tr>\n",
       "      <th>0</th>\n",
       "      <td>1.0</td>\n",
       "      <td>Gonzaga</td>\n",
       "    </tr>\n",
       "    <tr>\n",
       "      <th>2</th>\n",
       "      <td>16.0</td>\n",
       "      <td>Appalachian St</td>\n",
       "    </tr>\n",
       "    <tr>\n",
       "      <th>5</th>\n",
       "      <td>8.0</td>\n",
       "      <td>Oklahoma</td>\n",
       "    </tr>\n",
       "    <tr>\n",
       "      <th>7</th>\n",
       "      <td>9.0</td>\n",
       "      <td>Missouri</td>\n",
       "    </tr>\n",
       "    <tr>\n",
       "      <th>10</th>\n",
       "      <td>5.0</td>\n",
       "      <td>Creighton</td>\n",
       "    </tr>\n",
       "  </tbody>\n",
       "</table>\n",
       "</div>"
      ],
      "text/plain": [
       "    seed            team\n",
       "0    1.0         Gonzaga\n",
       "2   16.0  Appalachian St\n",
       "5    8.0        Oklahoma\n",
       "7    9.0        Missouri\n",
       "10   5.0       Creighton"
      ]
     },
     "execution_count": 5,
     "metadata": {},
     "output_type": "execute_result"
    }
   ],
   "source": [
    "tournament.head()"
   ]
  },
  {
   "cell_type": "code",
   "execution_count": 6,
   "id": "original-improvement",
   "metadata": {},
   "outputs": [],
   "source": [
    "tournament['team'] = tournament['team'].str.replace('.', '', regex=True)\n",
    "kenpom['TeamName'] = kenpom['TeamName'].str.replace('.', '', regex=True)\n",
    "kenpom['team'] = kenpom['team'].str.replace('.', '', regex=True)"
   ]
  },
  {
   "cell_type": "code",
   "execution_count": 7,
   "id": "jewish-floating",
   "metadata": {},
   "outputs": [],
   "source": [
    "kenpom_2021 = kenpom[kenpom['Season'] == 2021]"
   ]
  },
  {
   "cell_type": "code",
   "execution_count": 8,
   "id": "collected-college",
   "metadata": {},
   "outputs": [],
   "source": [
    "seeds.columns = ['seed', '1', '2', '3', '4', '5', '6']"
   ]
  },
  {
   "cell_type": "code",
   "execution_count": 9,
   "id": "appropriate-minister",
   "metadata": {},
   "outputs": [],
   "source": [
    "rank_avg = kenpom.groupby('ncaa_seed').mean()['rank']"
   ]
  },
  {
   "cell_type": "code",
   "execution_count": 10,
   "id": "particular-sweden",
   "metadata": {},
   "outputs": [],
   "source": [
    "def generate_winners(tournament, game):\n",
    "    '''\n",
    "    Parameters\n",
    "    tournament: the remaining teams in the tournament (ordered such that the \n",
    "    first two rows are playing each other, and so on)\n",
    "    n_game: what game # it is (i.e. 1 for the round of 64, 2 for the round of 32, etc.)\n",
    "    \n",
    "    Returns\n",
    "    tournament: the remaining teams after this round\n",
    "    '''\n",
    "    \n",
    "    winner_inds = []\n",
    "    game = str(game)\n",
    "\n",
    "    for i in range(int(len(tournament) / 2)):\n",
    "        team_1 = tournament.iloc[i * 2]['team']\n",
    "        team_2 = tournament.iloc[i * 2 + 1]['team']\n",
    "\n",
    "        team_1_seed = tournament.iloc[i * 2]['seed']\n",
    "        team_2_seed = tournament.iloc[i * 2 + 1]['seed']\n",
    "\n",
    "        team_1_kenpom_rank = kenpom_2021.loc[((kenpom_2021['TeamName'] == team_1) | (kenpom_2021['team'] == team_1))]['rank'].iloc[0]\n",
    "        team_2_kenpom_rank = kenpom_2021.loc[((kenpom_2021['TeamName'] == team_2) | (kenpom_2021['team'] == team_2))]['rank'].iloc[0]\n",
    "\n",
    "        # base odds that first team wins = based on game # and seeds\n",
    "        team_1_wins = seeds.loc[seeds['seed'] == team_1_seed][game].iloc[0]\n",
    "        team_2_wins = seeds.loc[seeds['seed'] == team_2_seed][game].iloc[0]\n",
    "\n",
    "        # adjust up/down based on kenpom rating compared to avg kenpom rating for that seed\n",
    "        team_1_diff = (rank_avg.loc[team_1_seed] - team_1_kenpom_rank) ** 1/3 * np.sign(rank_avg.loc[team_2_seed] - team_2_kenpom_rank)\n",
    "        team_2_diff = (rank_avg.loc[team_2_seed] - team_2_kenpom_rank) ** 1/3 * np.sign(rank_avg.loc[team_2_seed] - team_2_kenpom_rank)\n",
    "\n",
    "        team_1_chance = (team_1_wins + (team_1_diff / (lameness_setting ** (int(game) + 1) * team_1_seed))) * 100\n",
    "        team_2_chance = (team_2_wins + (team_2_diff / (lameness_setting ** (int(game) + 1) * team_2_seed))) * 100\n",
    "\n",
    "        n = int(team_1_chance + team_2_chance)\n",
    "        y = random.random() * n\n",
    "\n",
    "        if y <= team_1_chance:\n",
    "            print(team_1 + ' wins, ' + team_2 + ' loses')\n",
    "            winner_inds.append(i * 2)\n",
    "        else:\n",
    "            winner_inds.append(i * 2 + 1)\n",
    "            print(team_2 + ' wins, ' + team_1 + ' loses')\n",
    "            \n",
    "    return tournament.iloc[winner_inds]"
   ]
  },
  {
   "cell_type": "code",
   "execution_count": 11,
   "id": "mineral-louis",
   "metadata": {},
   "outputs": [
    {
     "name": "stdout",
     "output_type": "stream",
     "text": [
      "ROUND 1\n",
      "Gonzaga wins, Appalachian St loses\n",
      "Oklahoma wins, Missouri loses\n",
      "Creighton wins, UC Santa Barbara loses\n",
      "Virginia wins, Ohio loses\n",
      "USC wins, Drake loses\n",
      "Kansas wins, Eastern Washington loses\n",
      "Oregon wins, VCU loses\n",
      "Iowa wins, Grand Canyon loses\n",
      "Michigan wins, Texas Southern loses\n",
      "LSU wins, St Bonaventure loses\n",
      "Georgetown wins, Colorado loses\n",
      "Florida St wins, UNC Greensboro loses\n",
      "Michigan St wins, BYU loses\n",
      "Abilene Christian wins, Texas loses\n",
      "Connecticut wins, Maryland loses\n",
      "Alabama wins, Iona loses\n",
      "Baylor wins, Hartford loses\n",
      "North Carolina wins, Wisconsin loses\n",
      "Winthrop wins, Villanova loses\n",
      "Purdue wins, North Texas loses\n",
      "Texas Tech wins, Utah St loses\n",
      "Arkansas wins, Colgate loses\n",
      "Florida wins, Virginia Tech loses\n",
      "Ohio St wins, Oral Roberts loses\n",
      "Illinois wins, Drexel loses\n",
      "Loyola Chicago wins, Georgia Tech loses\n",
      "Oregon St wins, Tennessee loses\n",
      "Oklahoma St wins, Liberty loses\n",
      "Syracuse wins, San Diego St loses\n",
      "West Virginia wins, Morehead St loses\n",
      "Clemson wins, Rutgers loses\n",
      "Houston wins, Cleveland St loses\n",
      "\n",
      "ROUND 2\n",
      "Gonzaga wins, Oklahoma loses\n",
      "Creighton wins, Virginia loses\n",
      "USC wins, Kansas loses\n",
      "Oregon wins, Iowa loses\n",
      "Michigan wins, LSU loses\n",
      "Georgetown wins, Florida St loses\n",
      "Michigan St wins, Abilene Christian loses\n",
      "Alabama wins, Connecticut loses\n",
      "Baylor wins, North Carolina loses\n",
      "Winthrop wins, Purdue loses\n",
      "Arkansas wins, Texas Tech loses\n",
      "Ohio St wins, Florida loses\n",
      "Illinois wins, Loyola Chicago loses\n",
      "Oklahoma St wins, Oregon St loses\n",
      "West Virginia wins, Syracuse loses\n",
      "Houston wins, Clemson loses\n",
      "\n",
      "ROUND 3\n",
      "Gonzaga wins, Creighton loses\n",
      "Oregon wins, USC loses\n",
      "Michigan wins, Georgetown loses\n",
      "Alabama wins, Michigan St loses\n",
      "Baylor wins, Winthrop loses\n",
      "Ohio St wins, Arkansas loses\n",
      "Illinois wins, Oklahoma St loses\n",
      "Houston wins, West Virginia loses\n",
      "\n",
      "ROUND 4\n",
      "Gonzaga wins, Oregon loses\n",
      "Michigan wins, Alabama loses\n",
      "Baylor wins, Ohio St loses\n",
      "Illinois wins, Houston loses\n",
      "\n",
      "ROUND 5\n",
      "Gonzaga wins, Michigan loses\n",
      "Illinois wins, Baylor loses\n",
      "\n",
      "ROUND 6\n",
      "Gonzaga wins, Illinois loses\n",
      "\n"
     ]
    }
   ],
   "source": [
    "for n in range(1, 7):\n",
    "    print('ROUND ' + str(n))\n",
    "    tournament = generate_winners(tournament, n)\n",
    "    print()"
   ]
  },
  {
   "cell_type": "code",
   "execution_count": null,
   "id": "unique-tolerance",
   "metadata": {},
   "outputs": [],
   "source": []
  }
 ],
 "metadata": {
  "kernelspec": {
   "display_name": "Python 3",
   "language": "python",
   "name": "python3"
  },
  "language_info": {
   "codemirror_mode": {
    "name": "ipython",
    "version": 3
   },
   "file_extension": ".py",
   "mimetype": "text/x-python",
   "name": "python",
   "nbconvert_exporter": "python",
   "pygments_lexer": "ipython3",
   "version": "3.9.2"
  }
 },
 "nbformat": 4,
 "nbformat_minor": 5
}
