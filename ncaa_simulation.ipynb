{
 "cells": [
  {
   "cell_type": "code",
   "execution_count": 1,
   "id": "reasonable-hospital",
   "metadata": {},
   "outputs": [],
   "source": [
    "import pandas as pd\n",
    "import numpy as np\n",
    "import random"
   ]
  },
  {
   "cell_type": "code",
   "execution_count": 2,
   "id": "proved-veteran",
   "metadata": {},
   "outputs": [],
   "source": [
    "lameness_setting = 1.6\n",
    "# float suggested to be between 1 and ~6\n",
    "# a lower number will result in more upsets, a higher number will result in fewer upsets"
   ]
  },
  {
   "cell_type": "code",
   "execution_count": 3,
   "id": "falling-light",
   "metadata": {},
   "outputs": [],
   "source": [
    "seeds = pd.read_csv('seed_win_likelihoods.csv')\n",
    "kenpom = pd.read_csv('NCAA2021_Kenpom.csv')\n",
    "tournament = pd.read_csv('tournament.csv')"
   ]
  },
  {
   "cell_type": "code",
   "execution_count": 4,
   "id": "chinese-subdivision",
   "metadata": {},
   "outputs": [],
   "source": [
    "tournament = tournament.dropna(how='all')\n",
    "tournament = tournament.drop('Unnamed: 0', axis=1)\n",
    "tournament.columns = ['seed', 'team']"
   ]
  },
  {
   "cell_type": "code",
   "execution_count": 5,
   "id": "armed-generator",
   "metadata": {},
   "outputs": [
    {
     "data": {
      "text/html": [
       "<div>\n",
       "<style scoped>\n",
       "    .dataframe tbody tr th:only-of-type {\n",
       "        vertical-align: middle;\n",
       "    }\n",
       "\n",
       "    .dataframe tbody tr th {\n",
       "        vertical-align: top;\n",
       "    }\n",
       "\n",
       "    .dataframe thead th {\n",
       "        text-align: right;\n",
       "    }\n",
       "</style>\n",
       "<table border=\"1\" class=\"dataframe\">\n",
       "  <thead>\n",
       "    <tr style=\"text-align: right;\">\n",
       "      <th></th>\n",
       "      <th>seed</th>\n",
       "      <th>team</th>\n",
       "    </tr>\n",
       "  </thead>\n",
       "  <tbody>\n",
       "    <tr>\n",
       "      <th>0</th>\n",
       "      <td>1.0</td>\n",
       "      <td>Gonzaga</td>\n",
       "    </tr>\n",
       "    <tr>\n",
       "      <th>2</th>\n",
       "      <td>16.0</td>\n",
       "      <td>Appalachian St</td>\n",
       "    </tr>\n",
       "    <tr>\n",
       "      <th>5</th>\n",
       "      <td>8.0</td>\n",
       "      <td>Oklahoma</td>\n",
       "    </tr>\n",
       "    <tr>\n",
       "      <th>7</th>\n",
       "      <td>9.0</td>\n",
       "      <td>Missouri</td>\n",
       "    </tr>\n",
       "    <tr>\n",
       "      <th>10</th>\n",
       "      <td>5.0</td>\n",
       "      <td>Creighton</td>\n",
       "    </tr>\n",
       "  </tbody>\n",
       "</table>\n",
       "</div>"
      ],
      "text/plain": [
       "    seed            team\n",
       "0    1.0         Gonzaga\n",
       "2   16.0  Appalachian St\n",
       "5    8.0        Oklahoma\n",
       "7    9.0        Missouri\n",
       "10   5.0       Creighton"
      ]
     },
     "execution_count": 5,
     "metadata": {},
     "output_type": "execute_result"
    }
   ],
   "source": [
    "tournament.head()"
   ]
  },
  {
   "cell_type": "code",
   "execution_count": 6,
   "id": "original-improvement",
   "metadata": {},
   "outputs": [],
   "source": [
    "tournament['team'] = tournament['team'].str.replace('.', '', regex=True)\n",
    "kenpom['TeamName'] = kenpom['TeamName'].str.replace('.', '', regex=True)\n",
    "kenpom['team'] = kenpom['team'].str.replace('.', '', regex=True)"
   ]
  },
  {
   "cell_type": "code",
   "execution_count": 7,
   "id": "jewish-floating",
   "metadata": {},
   "outputs": [],
   "source": [
    "kenpom_2021 = kenpom[kenpom['Season'] == 2021]"
   ]
  },
  {
   "cell_type": "code",
   "execution_count": 8,
   "id": "collected-college",
   "metadata": {},
   "outputs": [],
   "source": [
    "seeds.columns = ['seed', '1', '2', '3', '4', '5', '6']"
   ]
  },
  {
   "cell_type": "code",
   "execution_count": 9,
   "id": "appropriate-minister",
   "metadata": {},
   "outputs": [],
   "source": [
    "rank_avg = kenpom.groupby('ncaa_seed').mean()['rank']"
   ]
  },
  {
   "cell_type": "code",
   "execution_count": 10,
   "id": "particular-sweden",
   "metadata": {},
   "outputs": [],
   "source": [
    "def generate_winners(tournament, game):\n",
    "    '''\n",
    "    Parameters\n",
    "    tournament: the remaining teams in the tournament (ordered such that the \n",
    "    first two rows are playing each other, and so on)\n",
    "    n_game: what game # it is (i.e. 1 for the round of 64, 2 for the round of 32, etc.)\n",
    "    \n",
    "    Returns\n",
    "    tournament: the remaining teams after this round\n",
    "    '''\n",
    "    \n",
    "    winner_inds = []\n",
    "    game = str(game)\n",
    "\n",
    "    for i in range(int(len(tournament) / 2)):\n",
    "        team_1 = tournament.iloc[i * 2]['team']\n",
    "        team_2 = tournament.iloc[i * 2 + 1]['team']\n",
    "\n",
    "        team_1_seed = tournament.iloc[i * 2]['seed']\n",
    "        team_2_seed = tournament.iloc[i * 2 + 1]['seed']\n",
    "\n",
    "        team_1_kenpom_rank = kenpom_2021.loc[((kenpom_2021['TeamName'] == team_1) | (kenpom_2021['team'] == team_1))]['rank'].iloc[0]\n",
    "        team_2_kenpom_rank = kenpom_2021.loc[((kenpom_2021['TeamName'] == team_2) | (kenpom_2021['team'] == team_2))]['rank'].iloc[0]\n",
    "\n",
    "        # base odds that first team wins = based on game # and seeds\n",
    "        team_1_wins = seeds.loc[seeds['seed'] == team_1_seed][game].iloc[0]\n",
    "        team_2_wins = seeds.loc[seeds['seed'] == team_2_seed][game].iloc[0]\n",
    "\n",
    "        # adjust up/down based on kenpom rating compared to avg kenpom rating for that seed\n",
    "        team_1_diff = (rank_avg.loc[team_1_seed] - team_1_kenpom_rank) ** 1/3 * np.sign(rank_avg.loc[team_2_seed] - team_2_kenpom_rank)\n",
    "        team_2_diff = (rank_avg.loc[team_2_seed] - team_2_kenpom_rank) ** 1/3 * np.sign(rank_avg.loc[team_2_seed] - team_2_kenpom_rank)\n",
    "\n",
    "        team_1_chance = (team_1_wins + (team_1_diff / (lameness_setting ** (int(game) + 1) * team_1_seed))) * 100\n",
    "        team_2_chance = (team_2_wins + (team_2_diff / (lameness_setting ** (int(game) + 1) * team_2_seed))) * 100\n",
    "\n",
    "        n = int(team_1_chance + team_2_chance)\n",
    "        y = random.random() * n\n",
    "\n",
    "        if y <= team_1_chance:\n",
    "            print(team_1 + ' wins, ' + team_2 + ' loses')\n",
    "            winner_inds.append(i * 2)\n",
    "        else:\n",
    "            winner_inds.append(i * 2 + 1)\n",
    "            print(team_2 + ' wins, ' + team_1 + ' loses')\n",
    "            \n",
    "    return tournament.iloc[winner_inds]"
   ]
  },
  {
   "cell_type": "code",
   "execution_count": 11,
   "id": "mineral-louis",
   "metadata": {},
   "outputs": [
    {
     "name": "stdout",
     "output_type": "stream",
     "text": [
      "ROUND 1\n",
      "Gonzaga wins, Appalachian St loses\n",
      "Missouri wins, Oklahoma loses\n",
      "Creighton wins, UC Santa Barbara loses\n",
      "Virginia wins, Ohio loses\n",
      "USC wins, Drake loses\n",
      "Eastern Washington wins, Kansas loses\n",
      "Oregon wins, VCU loses\n",
      "Iowa wins, Grand Canyon loses\n",
      "Michigan wins, Texas Southern loses\n",
      "LSU wins, St Bonaventure loses\n",
      "Colorado wins, Georgetown loses\n",
      "UNC Greensboro wins, Florida St loses\n",
      "Michigan St wins, BYU loses\n",
      "Texas wins, Abilene Christian loses\n",
      "Connecticut wins, Maryland loses\n",
      "Alabama wins, Iona loses\n",
      "Baylor wins, Hartford loses\n",
      "North Carolina wins, Wisconsin loses\n",
      "Winthrop wins, Villanova loses\n",
      "North Texas wins, Purdue loses\n",
      "Utah St wins, Texas Tech loses\n",
      "Colgate wins, Arkansas loses\n",
      "Florida wins, Virginia Tech loses\n",
      "Ohio St wins, Oral Roberts loses\n",
      "Illinois wins, Drexel loses\n",
      "Loyola Chicago wins, Georgia Tech loses\n",
      "Tennessee wins, Oregon St loses\n",
      "Oklahoma St wins, Liberty loses\n",
      "San Diego St wins, Syracuse loses\n",
      "West Virginia wins, Morehead St loses\n",
      "Rutgers wins, Clemson loses\n",
      "Houston wins, Cleveland St loses\n",
      "\n",
      "ROUND 2\n",
      "Gonzaga wins, Missouri loses\n",
      "Virginia wins, Creighton loses\n",
      "Eastern Washington wins, USC loses\n",
      "Iowa wins, Oregon loses\n",
      "Michigan wins, LSU loses\n",
      "UNC Greensboro wins, Colorado loses\n",
      "Texas wins, Michigan St loses\n",
      "Alabama wins, Connecticut loses\n",
      "Baylor wins, North Carolina loses\n",
      "North Texas wins, Winthrop loses\n",
      "Colgate wins, Utah St loses\n",
      "Ohio St wins, Florida loses\n",
      "Illinois wins, Loyola Chicago loses\n",
      "Tennessee wins, Oklahoma St loses\n",
      "West Virginia wins, San Diego St loses\n",
      "Houston wins, Rutgers loses\n",
      "\n",
      "ROUND 3\n",
      "Gonzaga wins, Virginia loses\n",
      "Iowa wins, Eastern Washington loses\n",
      "Michigan wins, UNC Greensboro loses\n",
      "Alabama wins, Texas loses\n",
      "Baylor wins, North Texas loses\n",
      "Ohio St wins, Colgate loses\n",
      "Illinois wins, Tennessee loses\n",
      "Houston wins, West Virginia loses\n",
      "\n",
      "ROUND 4\n",
      "Iowa wins, Gonzaga loses\n",
      "Alabama wins, Michigan loses\n",
      "Baylor wins, Ohio St loses\n",
      "Illinois wins, Houston loses\n",
      "\n",
      "ROUND 5\n",
      "Iowa wins, Alabama loses\n",
      "Illinois wins, Baylor loses\n",
      "\n",
      "ROUND 6\n",
      "Iowa wins, Illinois loses\n",
      "\n"
     ]
    }
   ],
   "source": [
    "for n in range(1, 7):\n",
    "    print('ROUND ' + str(n))\n",
    "    tournament = generate_winners(tournament, n)\n",
    "    print()"
   ]
  },
  {
   "cell_type": "code",
   "execution_count": null,
   "id": "unique-tolerance",
   "metadata": {},
   "outputs": [],
   "source": []
  }
 ],
 "metadata": {
  "kernelspec": {
   "display_name": "Python 3",
   "language": "python",
   "name": "python3"
  },
  "language_info": {
   "codemirror_mode": {
    "name": "ipython",
    "version": 3
   },
   "file_extension": ".py",
   "mimetype": "text/x-python",
   "name": "python",
   "nbconvert_exporter": "python",
   "pygments_lexer": "ipython3",
   "version": "3.9.2"
  }
 },
 "nbformat": 4,
 "nbformat_minor": 5
}
